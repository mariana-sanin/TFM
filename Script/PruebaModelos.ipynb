{
 "cells": [
  {
   "cell_type": "markdown",
   "metadata": {
    "vscode": {
     "languageId": "plaintext"
    }
   },
   "source": [
    "### Importar librerias, funciones y modelos"
   ]
  },
  {
   "cell_type": "code",
   "execution_count": null,
   "metadata": {},
   "outputs": [],
   "source": [
    "import pandas as pd\n",
    "from Modelos.modelo1 import recomendacion_modelo1\n",
    "from Modelos.modelo2_Python import train_model,save_model,load_model,recommend_books \n"
   ]
  },
  {
   "cell_type": "markdown",
   "metadata": {},
   "source": [
    "# Prueba modelos\n"
   ]
  },
  {
   "cell_type": "markdown",
   "metadata": {},
   "source": [
    "## Modelo 1"
   ]
  },
  {
   "cell_type": "code",
   "execution_count": null,
   "metadata": {},
   "outputs": [],
   "source": [
    "path_recomendations = '/Users/marianasanin/Desktop/TFM/Data/datamodelo1.csv'\n",
    "Usuario = 3422\n",
    "recomendacion_modelo1 (path_recomendations, Usuario)"
   ]
  },
  {
   "cell_type": "markdown",
   "metadata": {},
   "source": [
    "## Modelo 2"
   ]
  },
  {
   "cell_type": "code",
   "execution_count": null,
   "metadata": {},
   "outputs": [],
   "source": [
    "path_books ='/Users/mari/Desktop/TFM_Books/Codigo/Data/Final/databooks.csv'\n",
    "path_model = \"/Users/mari/Desktop/TFM_Books/Codigo/Principal/Modelos/modelo_libros.pkl\""
   ]
  },
  {
   "cell_type": "code",
   "execution_count": null,
   "metadata": {},
   "outputs": [],
   "source": [
    "\n",
    "# Entrenar el modelo\n",
    "#tfidf_vectorizer, tfidf_matrix, databooks = train_model(path_books)\n",
    "# Guardar el modelo\n",
    "#save_model(tfidf_vectorizer, tfidf_matrix, databooks, path_model)\n"
   ]
  },
  {
   "cell_type": "code",
   "execution_count": null,
   "metadata": {},
   "outputs": [],
   "source": [
    "\n",
    "# Cargar el modelo (si se reinicia el kernel, por ejemplo)\n",
    "tfidf_vectorizer, tfidf_matrix, databooks = load_model(path_model)"
   ]
  },
  {
   "cell_type": "code",
   "execution_count": null,
   "metadata": {},
   "outputs": [],
   "source": [
    "# Hacer una recomendación\n",
    "user_preference = input(\"Ingrese sus preferencias de lectura: \")\n",
    "recommended_books = recommend_books(user_preference, tfidf_vectorizer, tfidf_matrix, databooks)"
   ]
  },
  {
   "cell_type": "code",
   "execution_count": null,
   "metadata": {},
   "outputs": [],
   "source": [
    "print(\"Libros recomendados:\")\n",
    "recommended_books[['BookName', 'Description', 'IdAuthor']]"
   ]
  }
 ],
 "metadata": {
  "kernelspec": {
   "display_name": ".venv",
   "language": "python",
   "name": "python3"
  },
  "language_info": {
   "codemirror_mode": {
    "name": "ipython",
    "version": 3
   },
   "file_extension": ".py",
   "mimetype": "text/x-python",
   "name": "python",
   "nbconvert_exporter": "python",
   "pygments_lexer": "ipython3",
   "version": "3.12.2"
  }
 },
 "nbformat": 4,
 "nbformat_minor": 2
}
